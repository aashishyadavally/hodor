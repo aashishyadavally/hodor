{
 "cells": [
  {
   "cell_type": "markdown",
   "metadata": {},
   "source": [
    "<center>\n",
    "<img src=\"images/logo.png\" alt=\"drawing\" width=\"200\"/>\n",
    "</center>"
   ]
  },
  {
   "cell_type": "markdown",
   "metadata": {},
   "source": [
    "## What is ``rubrix``?\n",
    "\n",
    "``rubrix`` is an image search engine, which \n",
    "1. retrieves images that best describe the user-input search query\n",
    "2. retrieves images most similar to the user-uploaded image"
   ]
  },
  {
   "cell_type": "markdown",
   "metadata": {},
   "source": [
    "<center>\n",
    "<img src=\"images/kicked_a_ball.png\" alt=\"drawing\" width=\"1000\"/>\n",
    "</center>"
   ]
  },
  {
   "cell_type": "markdown",
   "metadata": {},
   "source": [
    "## How does Google Image Search work?\n",
    "\n",
    "Google Images looks at the following information to retrieve images:\n",
    "1. filenames for the images in the webpages that embed them\n",
    "2. contextual information based on text on the same page as an image"
   ]
  },
  {
   "cell_type": "markdown",
   "metadata": {},
   "source": [
    "## How does ``rubrix`` work?"
   ]
  },
  {
   "cell_type": "markdown",
   "metadata": {},
   "source": [
    "For text based image retrieval, ``rubrix``uses a combined similarity search based on multiple criteria such as objects within an image, text captions for an image, etc. to retrieve relevant images.\n",
    "\n",
    "For reverse image search, ``rubrix`` generates captions for the user-uploaded image so as to enable the combined similarity search described above."
   ]
  },
  {
   "cell_type": "markdown",
   "metadata": {},
   "source": [
    "## What do I need to know to build ``rubrix``? "
   ]
  },
  {
   "cell_type": "markdown",
   "metadata": {},
   "source": [
    "``rubrix`` uses various concepts from the branches of Artificial Intelligence such as Computer Vision and Natural Language Processing. The following infographic is a mind map which is useful to understand how each of these concepts are tied together."
   ]
  },
  {
   "cell_type": "markdown",
   "metadata": {},
   "source": [
    "<center>\n",
    "<img src=\"images/infographic_v5.png\" alt=\"drawing\" width=\"600\"/>\n",
    "</center>"
   ]
  },
  {
   "cell_type": "markdown",
   "metadata": {},
   "source": [
    "## Watch ``rubrix`` in action.. "
   ]
  },
  {
   "cell_type": "code",
   "execution_count": null,
   "metadata": {},
   "outputs": [],
   "source": [
    "import PIL\n",
    "import os\n",
    "import warnings\n",
    "\n",
    "# Hide warnings\n",
    "os.environ['TF_CPP_MIN_LOG_LEVEL'] = '3'\n",
    "warnings.filterwarnings('ignore')\n",
    "\n",
    "from IPython.display import display, Image\n",
    "\n",
    "import tensorflow as tf\n",
    "import tensorflow_hub as hub\n",
    "\n",
    "from rubrix import pathfinder\n",
    "from rubrix.query import query_by_text, query_by_image_objects\n",
    "from rubrix.index.encodings import MODULE_URL\n",
    "\n",
    "\n",
    "# Model query arguments\n",
    "model = hub.load(MODULE_URL)\n",
    "weights_path = pathfinder.get('assets', 'models', 'yolov4.weights')\n",
    "cfg_path = pathfinder.get('rubrix', 'index', 'darknet', 'cfg', 'yolov4.cfg')\n",
    "names_path = pathfinder.get('rubrix', 'index', 'darknet', 'data', 'coco.names')"
   ]
  },
  {
   "cell_type": "markdown",
   "metadata": {},
   "source": [
    "### Image search - enter text query"
   ]
  },
  {
   "cell_type": "code",
   "execution_count": null,
   "metadata": {},
   "outputs": [],
   "source": [
    "%%time\n",
    "search_query = \"throw a ball\"\n",
    "\n",
    "# Use query_by_text method for image retrieval by text.\n",
    "results = query_by_text(search_query, model, save=True)"
   ]
  },
  {
   "cell_type": "markdown",
   "metadata": {
    "slideshow": {
     "slide_type": "slide"
    }
   },
   "source": [
    "### Display results"
   ]
  },
  {
   "cell_type": "code",
   "execution_count": null,
   "metadata": {},
   "outputs": [],
   "source": [
    "images = [PIL.Image.open(str(path)) for path in results]\n",
    "\n",
    "for idx, im in enumerate(images):\n",
    "    print(f'Result {idx + 1}:')\n",
    "    display(Image(filename=im.filename, retina=True))"
   ]
  },
  {
   "cell_type": "markdown",
   "metadata": {},
   "source": [
    "### Reverse Image Search - Enter path to image"
   ]
  },
  {
   "cell_type": "code",
   "execution_count": null,
   "metadata": {},
   "outputs": [],
   "source": [
    "%%time\n",
    "path_to_image_1 = 'images/jimmy.png'\n",
    "path_to_image_2 = 'images/horses.jpg'\n",
    "\n",
    "# Use query_by_text method for image retrieval by text.\n",
    "results = query_by_image_objects(path_to_image_2, weights_path, cfg_path, names_path)"
   ]
  },
  {
   "cell_type": "markdown",
   "metadata": {},
   "source": [
    "### Display Results"
   ]
  },
  {
   "cell_type": "code",
   "execution_count": null,
   "metadata": {},
   "outputs": [],
   "source": [
    "images = [PIL.Image.open(str(path)) for path in results]\n",
    "\n",
    "for idx, im in enumerate(images):\n",
    "    print(f'Result {idx + 1}:')\n",
    "    display(Image(filename=im.filename, retina=True))"
   ]
  },
  {
   "cell_type": "markdown",
   "metadata": {},
   "source": [
    "## FAQ\n",
    "\n",
    "1. **Does ``rubrix`` use an image database?**\n",
    "   <br>*Yes, it uses the Flickr8k image database, which is a collection of 8000 day-to-day images from Flickr.*\n",
    "\n",
    "\n",
    "2. **Does ``rubrix`` look through the entire image database to retrieve relevant images?**\n",
    "   <br>*NO! A smart filtering technique was designed which generates an inverse image index mapping the images in the database to hand-crafted features.*"
   ]
  }
 ],
 "metadata": {
  "kernelspec": {
   "display_name": "Python 3",
   "language": "python",
   "name": "python3"
  },
  "language_info": {
   "codemirror_mode": {
    "name": "ipython",
    "version": 3
   },
   "file_extension": ".py",
   "mimetype": "text/x-python",
   "name": "python",
   "nbconvert_exporter": "python",
   "pygments_lexer": "ipython3",
   "version": "3.8.5"
  }
 },
 "nbformat": 4,
 "nbformat_minor": 5
}
